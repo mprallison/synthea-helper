{
 "cells": [
  {
   "cell_type": "code",
   "execution_count": 1,
   "id": "a9411020-d05d-4a6f-9353-ed01485b5121",
   "metadata": {},
   "outputs": [],
   "source": [
    "from preprocess_synthea import *\n",
    "import pandas as pd\n",
    "import os\n",
    "\n",
    "#can read/write only csvs or use gspread to write data as gsheets\n",
    "#requires setup in google cloud platform and credentials.json and token.json files in current directory\n",
    "from gspread import *"
   ]
  },
  {
   "cell_type": "code",
   "execution_count": null,
   "id": "9e866fed-ed23-46b7-97e0-19fbe03908c3",
   "metadata": {},
   "outputs": [],
   "source": [
    "#patients.csv\n",
    "#allergies.csv\n",
    "#careplans.csv\n",
    "#conditions.csv\n",
    "#devices.csv\n",
    "#encounters.csv\n",
    "#imaging_studies.csv\n",
    "#immunizations.csv\n",
    "#medications.csv\n",
    "#observations.csv\n",
    "#procedures.csv"
   ]
  },
  {
   "cell_type": "code",
   "execution_count": 13,
   "id": "19564429-d7d7-421d-b71b-0d484fe36371",
   "metadata": {},
   "outputs": [],
   "source": [
    "#change directory to synthea output/csv\n",
    "in_path = \"C:/Users/mrallison/GitHub/synthea/output/csv\")\n",
    "\n",
    "#write out path\n",
    "out_path = \"D:/Shared drives/AI-ready content project/Informatics/2023 Project/synthea patient data/cohort_n/\""
   ]
  },
  {
   "cell_type": "code",
   "execution_count": 3,
   "id": "dfa81896-4059-45b2-8155-30289e9bcdb2",
   "metadata": {},
   "outputs": [],
   "source": [
    "patient_df, allergy_df, careplan_df, conditions_df, device_df, encounter_df, imaging_study_df, immunization_df, medication_df, observation_df, procedure_df = load_synthea(in_path)"
   ]
  },
  {
   "cell_type": "code",
   "execution_count": 4,
   "id": "c5783e76-10a9-4e42-9e31-7afac2dba168",
   "metadata": {},
   "outputs": [],
   "source": [
    "#specify case criteria with boolean masks\n",
    "#example filters:\n",
    "\n",
    "#filter1: presence of Pulmonary emphysema or Chronic obstructive bronchitis (COPD)\n",
    "conditions = set([\"Pulmonary emphysema (disorder)\", \"Chronic obstructive bronchitis (disorder)\"])\n",
    "patient_copd = set(conditions_df[conditions_df[\"DESCRIPTION\"].isin(conditions)][\"PATIENT\"].unique())\n",
    "\n",
    "#filter2: female\n",
    "patient_female = set(patient_df[patient_df[\"GENDER\"] == \"F\"][\"PATIENT\"])\n",
    "\n",
    "#filter3: record of covid-19 immunization\n",
    "patient_covid_jab = set(immunization_df[immunization_df[\"DESCRIPTION\"].str.contains(\"SARS-COV-2\")][\"PATIENT\"].unique())"
   ]
  },
  {
   "cell_type": "code",
   "execution_count": 5,
   "id": "73622d91-d48c-400f-9cfa-d6d30ce3c7a5",
   "metadata": {},
   "outputs": [
    {
     "name": "stdout",
     "output_type": "stream",
     "text": [
      "Total patients meeting criteria: 88\n",
      "Total patients not meeting criteria: 11558\n"
     ]
    }
   ],
   "source": [
    "case_patients = generate_cohort(patient_df, \n",
    "                                #filter patient sets as arguments:\n",
    "                                patient_copd, patient_female, patient_covid_jab)"
   ]
  },
  {
   "cell_type": "code",
   "execution_count": 6,
   "id": "1bc4523f-be7a-4ca2-b00d-e60a656c53cf",
   "metadata": {},
   "outputs": [],
   "source": [
    "cohort = generate_cohort_sample(80, 80, case_patients, patient_df)"
   ]
  },
  {
   "cell_type": "code",
   "execution_count": 7,
   "id": "b95f5785-7e60-414e-9c58-a37b9589bee9",
   "metadata": {},
   "outputs": [],
   "source": [
    "patient_df, allergy_df, careplan_df, conditions_df, device_df, imaging_study_df, immunization_df, medication_df, observation_df, procedure_df = filter_cohort_data(cohort, \n",
    "                                                                                                                                                                   case_patients,\n",
    "                                                                                                                                                                   patient_df,\n",
    "                                                                                                                                                                   allergy_df,\n",
    "                                                                                                                                                                   careplan_df,\n",
    "                                                                                                                                                                   conditions_df,\n",
    "                                                                                                                                                                   device_df,\n",
    "                                                                                                                                                                   encounter_df,\n",
    "                                                                                                                                                                   imaging_study_df,\n",
    "                                                                                                                                                                   immunization_df,\n",
    "                                                                                                                                                                   medication_df,\n",
    "                                                                                                                                                                   observation_df,\n",
    "                                                                                                                                                                   procedure_df)"
   ]
  },
  {
   "cell_type": "code",
   "execution_count": 9,
   "id": "1db0e8fe-c9b1-4cde-9514-61527db11863",
   "metadata": {},
   "outputs": [],
   "source": [
    "cohort_df = join_synthea_tables(allergy_df,\n",
    "                               careplan_df,\n",
    "                               conditions_df,\n",
    "                               device_df,\n",
    "                               encounter_df,\n",
    "                               imaging_study_df,\n",
    "                               immunization_df,\n",
    "                               medication_df,\n",
    "                               observation_df,\n",
    "                               procedure_df)"
   ]
  },
  {
   "cell_type": "code",
   "execution_count": null,
   "id": "67e99943-2b14-43cc-a7e1-06d09d7b900d",
   "metadata": {},
   "outputs": [],
   "source": [
    "#write joined cohort files\n",
    "patient_df.to_csv(path + \"patients.csv\", index=False)\n",
    "cohort_df.to_csv(path + \"ehr_records.csv\", index=False)"
   ]
  },
  {
   "cell_type": "code",
   "execution_count": 31,
   "id": "b7ce2222-2c15-4090-941a-077702db3a29",
   "metadata": {},
   "outputs": [],
   "source": [
    "#write all cohort files\n",
    "patient_df.to_csv(path + \"patients.csv\", index=False)\n",
    "allergy_df.to_csv(path + \"allergies.csv\", index=False)\n",
    "careplan_df.to_csv(path + \"careplans.csv\", index=False)\n",
    "conditions_df.to_csv(path + \"conditions.csv\", index=False)\n",
    "device_df.to_csv(path + \"devices.csv\", index=False)\n",
    "encounter_df.to_csv(path + \"encounters.csv\", index=False)\n",
    "imaging_study_df.to_csv(path + \"imaging_studies.csv\", index=False)\n",
    "immunization_df.to_csv(path + \"immunizations.csv\", index=False)\n",
    "medication_df.to_csv(path + \"medications.csv\", index=False)\n",
    "observation_df.to_csv(path + \"observations.csv\", index=False)\n",
    "procedure_df.to_csv(path + \"procedures.csv\", index=False)"
   ]
  },
  {
   "cell_type": "code",
   "execution_count": null,
   "id": "cfb253da-5683-43e6-9f54-0842bf6565bb",
   "metadata": {},
   "outputs": [],
   "source": []
  }
 ],
 "metadata": {
  "kernelspec": {
   "display_name": "Python 3 (ipykernel)",
   "language": "python",
   "name": "python3"
  },
  "language_info": {
   "codemirror_mode": {
    "name": "ipython",
    "version": 3
   },
   "file_extension": ".py",
   "mimetype": "text/x-python",
   "name": "python",
   "nbconvert_exporter": "python",
   "pygments_lexer": "ipython3",
   "version": "3.10.6"
  }
 },
 "nbformat": 4,
 "nbformat_minor": 5
}
